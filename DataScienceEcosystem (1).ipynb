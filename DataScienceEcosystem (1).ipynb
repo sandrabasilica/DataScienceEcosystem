{
 "cells": [
  {
   "cell_type": "markdown",
   "id": "78f8695f-5d9d-48f2-b7c5-9a1020e4c1c7",
   "metadata": {
    "tags": []
   },
   "source": [
    "# Data Science Tools and Ecosystem"
   ]
  },
  {
   "cell_type": "markdown",
   "id": "c7f0581a-d871-4ca0-8885-4cac35dce6c1",
   "metadata": {},
   "source": [
    "In this notebook, Data Science Tools and Ecosystem are summarized.\n"
   ]
  },
  {
   "cell_type": "markdown",
   "id": "d697ceef-adc9-44bd-b2b2-f40fbb810a06",
   "metadata": {},
   "source": [
    "### **Objectives**\n",
    "* To list the popular languages used in Data Science\n",
    "* To list the common libraries used in Data Science\n",
    "* To enumerate the Data Science Tools\n",
    "* To study few examples of evaluating arithmetic expressions in Python\n",
    "\n",
    "\n",
    "\n"
   ]
  },
  {
   "cell_type": "markdown",
   "id": "96bc8329-996e-47e0-ab40-93db6cb5cdf0",
   "metadata": {},
   "source": [
    "#### Some of the popular languages that Data Scientists use are:\n"
   ]
  },
  {
   "cell_type": "markdown",
   "id": "4f2bcdf6-ad2c-4a52-a235-6834f3ac4f3f",
   "metadata": {},
   "source": [
    "* Python\n",
    "* R \n",
    "* SQL "
   ]
  },
  {
   "cell_type": "markdown",
   "id": "03fbd175-95a8-45e2-ba54-5c83094c48e5",
   "metadata": {},
   "source": [
    "#### Some of the commonly used libraries used by Data Scientists include:"
   ]
  },
  {
   "cell_type": "markdown",
   "id": "09ab8b4a-0e6f-4bc0-bed9-4fbc79d42a54",
   "metadata": {},
   "source": [
    "* Numpy\n",
    "* Pandas\n",
    "* Matplotlib\n",
    "* TensorFlow\n",
    "* Scikit-learn\n"
   ]
  },
  {
   "cell_type": "markdown",
   "id": "d1bcffcb-62be-4757-9044-326ed91fc457",
   "metadata": {},
   "source": [
    "| Data Science Tools |\n",
    "| ------------------ |\n",
    "| Jupyter Notebook |\n",
    "| RStudio |\n",
    "| Spyder |\n",
    "\n"
   ]
  },
  {
   "cell_type": "markdown",
   "id": "39ddee58-a707-44fb-bcb7-824cee3e9be8",
   "metadata": {
    "tags": []
   },
   "source": [
    "### Below are a few examples of evaluating arithmetic expressions in Python"
   ]
  },
  {
   "cell_type": "code",
   "execution_count": 3,
   "id": "b4bcc530-fe64-4321-b784-98da27a723f7",
   "metadata": {
    "tags": []
   },
   "outputs": [
    {
     "data": {
      "text/plain": [
       "17"
      ]
     },
     "execution_count": 3,
     "metadata": {},
     "output_type": "execute_result"
    }
   ],
   "source": [
    "# This a simple arithmetic expression to mutiply then add integers\n",
    "(3*4)+5\n"
   ]
  },
  {
   "cell_type": "code",
   "execution_count": 4,
   "id": "a009f6b8-4946-4510-9331-9b8b3d662d70",
   "metadata": {
    "tags": []
   },
   "outputs": [
    {
     "data": {
      "text/plain": [
       "3.3333333333333335"
      ]
     },
     "execution_count": 4,
     "metadata": {},
     "output_type": "execute_result"
    }
   ],
   "source": [
    "# This will convert 200 minutes to hours by diving by 60\n",
    "200/60"
   ]
  },
  {
   "cell_type": "markdown",
   "id": "4b63aef1-4769-4a76-a079-d5775889e687",
   "metadata": {},
   "source": [
    "## Author"
   ]
  },
  {
   "cell_type": "markdown",
   "id": "e2fd9197-5bf2-460f-890f-36edfc36943c",
   "metadata": {},
   "source": [
    "Sandra Basilica\n"
   ]
  }
 ],
 "metadata": {
  "kernelspec": {
   "display_name": "Python",
   "language": "python",
   "name": "conda-env-python-py"
  },
  "language_info": {
   "codemirror_mode": {
    "name": "ipython",
    "version": 3
   },
   "file_extension": ".py",
   "mimetype": "text/x-python",
   "name": "python",
   "nbconvert_exporter": "python",
   "pygments_lexer": "ipython3",
   "version": "3.7.12"
  }
 },
 "nbformat": 4,
 "nbformat_minor": 5
}
